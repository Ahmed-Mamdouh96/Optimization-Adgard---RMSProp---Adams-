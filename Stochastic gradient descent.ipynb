{
 "cells": [
  {
   "cell_type": "code",
   "execution_count": 28,
   "metadata": {},
   "outputs": [
    {
     "name": "stdout",
     "output_type": "stream",
     "text": [
      "[0.  0.  0.1 0.2 0.3 0.4 0.5 0.6 0.7 0.8 0.9 1. ]\n",
      "[0.87056252] [10.29131628]\n",
      "[array([0.87058205]), array([0.87063598]), array([1.9002343]), array([2.92982946]), array([3.95810945]), array([4.98724526]), array([6.01636841]), array([7.04547654]), array([8.07279128]), array([9.10113448]), array([10.13078789]), array([11.16368187])]\n"
     ]
    },
    {
     "data": {
      "text/plain": [
       "0.7572864366620486"
      ]
     },
     "execution_count": 28,
     "metadata": {},
     "output_type": "execute_result"
    },
    {
     "data": {
      "image/png": "[encoded data removed]",
      "text/plain": [
       "<Figure size 432x288 with 1 Axes>"
      ]
     },
     "metadata": {
      "needs_background": "light"
     },
     "output_type": "display_data"
    }
   ],
   "source": [
    "import numpy as np\n",
    "import matplotlib.pyplot as plt\n",
    "\n",
    "\n",
    "inputFeature = np.array ([1,1,2,3,4,5,6,7,8,9,10,11])\n",
    "theta0=np.array([0.5])\n",
    "theta1= np.array([0.5])\n",
    "actualValue = np.array([1,2,3,1,4,5,6,4,7,10,15,9])\n",
    "\n",
    "\n",
    "alpha=0.005\n",
    "\n",
    "inputFeature = (inputFeature - np.amin(inputFeature) ) / (np.amax(inputFeature) - np.amin(inputFeature))\n",
    "print(inputFeature)\n",
    "\n",
    "\n",
    "Iterations =10000\n",
    "while(Iterations>1):  \n",
    "    Sum=0\n",
    "    HypthesisArr=[]\n",
    "\n",
    "    for i in range(len(inputFeature)) :\n",
    "        \n",
    "            Hypthesis= theta0 + theta1*np.array(inputFeature[i])\n",
    "            Cost= (1/2*len(inputFeature))*((Hypthesis-actualValue[i])**2)\n",
    "            theta0=theta0 - alpha * ((1/len(inputFeature))*(Hypthesis-actualValue[i]))\n",
    "            theta1=theta1 - alpha * ((1/len(inputFeature))* ((Hypthesis-actualValue[i])*inputFeature[i]))\n",
    "            \n",
    "            HypthesisArr.append(Hypthesis)\n",
    "    \n",
    "   \n",
    "    Iterations-=1\n",
    "        \n",
    "print(theta0,theta1)\n",
    "\n",
    "plt.scatter(inputFeature,actualValue)\n",
    "plt.plot(inputFeature,HypthesisArr,color='red')\n",
    "print(HypthesisArr)\n",
    "from sklearn.metrics import r2_score\n",
    "r2_score(actualValue,HypthesisArr)"
   ]
  },
  {
   "cell_type": "code",
   "execution_count": null,
   "metadata": {},
   "outputs": [],
   "source": []
  }
 ],
 "metadata": {
  "kernelspec": {
   "display_name": "Python 3",
   "language": "python",
   "name": "python3"
  },
  "language_info": {
   "codemirror_mode": {
    "name": "ipython",
    "version": 3
   },
   "file_extension": ".py",
   "mimetype": "text/x-python",
   "name": "python",
   "nbconvert_exporter": "python",
   "pygments_lexer": "ipython3",
   "version": "3.8.5"
  }
 },
 "nbformat": 4,
 "nbformat_minor": 4
}
