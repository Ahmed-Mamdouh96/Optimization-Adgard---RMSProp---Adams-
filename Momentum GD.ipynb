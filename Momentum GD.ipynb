{
 "cells": [
  {
   "cell_type": "code",
   "execution_count": 38,
   "metadata": {},
   "outputs": [
    {
     "name": "stdout",
     "output_type": "stream",
     "text": [
      "[0.10701477] [1.00316934]\n",
      "[ 1.0797369   1.0797369   2.05529581  3.03085472  4.00641363  4.98197254\n",
      "  5.95753145  6.93309036  7.90864927  8.88420818  9.8597671  10.83532601]\n"
     ]
    },
    {
     "data": {
      "text/plain": [
       "Text(0, 0.5, 'Predicted Values')"
      ]
     },
     "execution_count": 38,
     "metadata": {},
     "output_type": "execute_result"
    },
    {
     "data": {
      "image/png": "[encoded data removed]",
      "text/plain": [
       "<Figure size 432x288 with 1 Axes>"
      ]
     },
     "metadata": {
      "needs_background": "light"
     },
     "output_type": "display_data"
    }
   ],
   "source": [
    "import numpy as np\n",
    "import matplotlib.pyplot as plt\n",
    "\n",
    "inputFeature = np.array ([1,1,2,3,4,5,6,7,8,9,10,11])\n",
    "theta0=np.array([0])\n",
    "theta1= np.array([0])\n",
    "actualValue = np.array([1,2,3,1,4,5,6,4,7,10,15,9])\n",
    "\n",
    "costiter=[]\n",
    "iter=[]\n",
    "alpha = 0.001\n",
    "i=1\n",
    "iterations=40\n",
    "vt0=0\n",
    "vt1=0\n",
    "while (iterations>1):\n",
    "    \n",
    "    predictedOutput=(theta0)+ (theta1*inputFeature)\n",
    "    costFunction= 1/len(inputFeature) * (np.sum((predictedOutput-actualValue)**2))\n",
    "    costiter.append(costFunction)\n",
    "    iter.append(i)\n",
    "    if (costFunction <= 0.000000000001):\n",
    "        break\n",
    "    else :\n",
    "        vt0 = 0.9*vt0 + alpha * (1/len(inputFeature))*np.sum(predictedOutput-actualValue)\n",
    "        theta0=theta0 - vt0\n",
    "        vt1 = 0.9*vt1 + alpha * (1/len(inputFeature))* (np.sum((predictedOutput-actualValue)*inputFeature))\n",
    "        theta1=theta1 - vt1\n",
    "    iterations=iterations-1 \n",
    "    i=i+1\n",
    "    \n",
    "print(theta0,theta1)\n",
    "print(predictedOutput)\n",
    "\n",
    "plt.scatter(inputFeature,actualValue)\n",
    "plt.plot(inputFeature,predictedOutput,color='red')\n",
    "plt.title(\"Linear Regression\")\n",
    "plt.xlabel(\"Input Features\")\n",
    "plt.ylabel(\"Predicted Values\")"
   ]
  },
  {
   "cell_type": "code",
   "execution_count": 39,
   "metadata": {},
   "outputs": [
    {
     "name": "stdout",
     "output_type": "stream",
     "text": [
      "\n"
     ]
    },
    {
     "data": {
      "text/plain": [
       "[<matplotlib.lines.Line2D at 0x1e974cba1c0>]"
      ]
     },
     "execution_count": 39,
     "metadata": {},
     "output_type": "execute_result"
    },
    {
     "data": {
      "image/png": "[encoded data removed]",
      "text/plain": [
       "<Figure size 432x288 with 1 Axes>"
      ]
     },
     "metadata": {
      "needs_background": "light"
     },
     "output_type": "display_data"
    }
   ],
   "source": [
    "print()\n",
    "plt.plot(iter,costiter,color='red')\n"
   ]
  },
  {
   "cell_type": "code",
   "execution_count": 40,
   "metadata": {},
   "outputs": [
    {
     "data": {
      "text/plain": [
       "0.7547261478518823"
      ]
     },
     "execution_count": 40,
     "metadata": {},
     "output_type": "execute_result"
    }
   ],
   "source": [
    "from sklearn.metrics import r2_score\n",
    "r2_score(actualValue,predictedOutput)"
   ]
  },
  {
   "cell_type": "code",
   "execution_count": null,
   "metadata": {},
   "outputs": [],
   "source": []
  }
 ],
 "metadata": {
  "kernelspec": {
   "display_name": "Python 3",
   "language": "python",
   "name": "python3"
  },
  "language_info": {
   "codemirror_mode": {
    "name": "ipython",
    "version": 3
   },
   "file_extension": ".py",
   "mimetype": "text/x-python",
   "name": "python",
   "nbconvert_exporter": "python",
   "pygments_lexer": "ipython3",
   "version": "3.8.5"
  }
 },
 "nbformat": 4,
 "nbformat_minor": 4
}
