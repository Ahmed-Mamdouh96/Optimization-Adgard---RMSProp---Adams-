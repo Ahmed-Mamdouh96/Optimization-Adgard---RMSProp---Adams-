{
 "cells": [
  {
   "cell_type": "code",
   "execution_count": 45,
   "metadata": {},
   "outputs": [
    {
     "data": {
      "text/plain": [
       "[<matplotlib.lines.Line2D at 0x29d146ec520>]"
      ]
     },
     "execution_count": 45,
     "metadata": {},
     "output_type": "execute_result"
    },
    {
     "data": {
      "image/png": "[encoded data removed]",
      "text/plain": [
       "<Figure size 432x288 with 1 Axes>"
      ]
     },
     "metadata": {
      "needs_background": "light"
     },
     "output_type": "display_data"
    }
   ],
   "source": [
    "import numpy as np\n",
    "import matplotlib.pyplot as plt\n",
    "\n",
    "\n",
    "inputFeature = np.array ([1,1,2,3,4,5,6,7,8,9,10,11])\n",
    "theta0=np.array([0.5])\n",
    "theta1= np.array([0.5])\n",
    "actualValue = np.array([1,2,3,1,4,5,6,4,7,10,15,9])\n",
    "\n",
    "\n",
    "alpha=0.005\n",
    "iteration=1000\n",
    "\n",
    "inputFeature = (inputFeature - np.amin(inputFeature) ) / (np.amax(inputFeature) - np.amin(inputFeature))\n",
    "\n",
    "\n",
    "HypoTotal=[]\n",
    "iteration=1000\n",
    "\n",
    "while(iteration>1):\n",
    "    HypoTotal=[]\n",
    "\n",
    "    for i in range(0, len(inputFeature), 3):\n",
    "             Batch=inputFeature[i:i+3]\n",
    "             Hypo=(theta0)+ (theta1*Batch)\n",
    "             costFunction = 1/len(Batch) * (np.sum((Hypo - actualValue[i:i+3])**2))\n",
    "             theta0 = theta0 - alpha * (1/len(Batch))*np.sum(Hypo-actualValue[i:i+3])\n",
    "             theta1 = theta1 - alpha * (1/len(Batch))* (np.sum((Hypo-actualValue[i:i+3])*Batch))\n",
    "            \n",
    "             HypoTotal.append(Hypo[:])\n",
    "    iteration-=1\n",
    "    \n",
    "HypoTotal=np.array(HypoTotal)\n",
    "\n",
    "\n",
    "HypoTotal=HypoTotal.reshape(-1,1)\n",
    "from sklearn.metrics import r2_score\n",
    "r2_score(actualValue,HypoTotal)\n",
    "\n",
    "plt.scatter(inputFeature,actualValue)\n",
    "plt.plot(inputFeature,HypoTotal,color='red')"
   ]
  },
  {
   "cell_type": "code",
   "execution_count": 46,
   "metadata": {},
   "outputs": [
    {
     "data": {
      "text/plain": [
       "0.7453355789784408"
      ]
     },
     "execution_count": 46,
     "metadata": {},
     "output_type": "execute_result"
    }
   ],
   "source": [
    "from sklearn.metrics import r2_score\n",
    "r2_score(actualValue,HypoTotal)"
   ]
  },
  {
   "cell_type": "code",
   "execution_count": null,
   "metadata": {},
   "outputs": [],
   "source": []
  }
 ],
 "metadata": {
  "kernelspec": {
   "display_name": "Python 3",
   "language": "python",
   "name": "python3"
  },
  "language_info": {
   "codemirror_mode": {
    "name": "ipython",
    "version": 3
   },
   "file_extension": ".py",
   "mimetype": "text/x-python",
   "name": "python",
   "nbconvert_exporter": "python",
   "pygments_lexer": "ipython3",
   "version": "3.8.5"
  }
 },
 "nbformat": 4,
 "nbformat_minor": 4
}
