{
 "cells": [
  {
   "cell_type": "markdown",
   "metadata": {},
   "source": [
    "## Nesterov Accelerated GD"
   ]
  },
  {
   "cell_type": "code",
   "execution_count": 24,
   "metadata": {},
   "outputs": [
    {
     "name": "stdout",
     "output_type": "stream",
     "text": [
      "[-0.04876654] [1.01049285]\n",
      "[ 0.97483034  0.97483034  1.98543793  2.99604552  4.00665312  5.01726071\n",
      "  6.0278683   7.0384759   8.04908349  9.05969108 10.07029868 11.08090627]\n"
     ]
    },
    {
     "data": {
      "text/plain": [
       "Text(0, 0.5, 'Predicted Values')"
      ]
     },
     "execution_count": 24,
     "metadata": {},
     "output_type": "execute_result"
    },
    {
     "data": {
      "image/png": "[encoded data removed]",
      "text/plain": [
       "<Figure size 432x288 with 1 Axes>"
      ]
     },
     "metadata": {
      "needs_background": "light"
     },
     "output_type": "display_data"
    }
   ],
   "source": [
    "import numpy as np\n",
    "import matplotlib.pyplot as plt\n",
    "\n",
    "inputFeature = np.array ([1,1,2,3,4,5,6,7,8,9,10,11])\n",
    "theta0=np.array([0])\n",
    "theta1= np.array([0])\n",
    "actualValue = np.array([1,2,3,1,4,5,6,4,7,10,15,9])\n",
    "\n",
    "costiter=[]\n",
    "iter=[]\n",
    "alpha = 0.01\n",
    "i=1\n",
    "iterations=15\n",
    "vt0=0\n",
    "vt1=0\n",
    "gamma=0.45\n",
    "while (iterations>1):\n",
    "    \n",
    "    predictedOutput=(theta0)+ (theta1*inputFeature)\n",
    "    costFunction= 1/len(inputFeature) * (np.sum((predictedOutput-actualValue)**2))\n",
    "    costiter.append(costFunction)\n",
    "    iter.append(i)\n",
    "    if (costFunction <= 0.000000000001):\n",
    "        break\n",
    "    else :\n",
    "        \n",
    "        thetat0temp=theta0 - (gamma*vt0)\n",
    "        theta1temp= theta1 - gamma* vt1\n",
    "\n",
    "        theta0= thetat0temp - alpha * (1/len(inputFeature))*np.sum((thetat0temp)+ (theta1temp*inputFeature)-actualValue)\n",
    "        vt0=gamma*vt0 + (1/len(inputFeature))*np.sum((thetat0temp)+ (theta1temp*inputFeature)-actualValue)\n",
    "        \n",
    "        \n",
    "        theta1 = theta1temp - alpha * (1/len(inputFeature))* (np.sum((thetat0temp)+ (theta1temp*inputFeature-actualValue)*inputFeature))\n",
    "        vt1= gamma*vt1 +  alpha * (1/len(inputFeature))* (np.sum((thetat0temp)+ (theta1temp*inputFeature-actualValue)*inputFeature))\n",
    "        \n",
    "    iterations=iterations-1 \n",
    "    i=i+1\n",
    "    \n",
    "print(theta0,theta1)\n",
    "print(predictedOutput)\n",
    "\n",
    "plt.scatter(inputFeature,actualValue)\n",
    "plt.plot(inputFeature,predictedOutput,color='red')\n",
    "plt.title(\"Linear Regression\")\n",
    "plt.xlabel(\"Input Features\")\n",
    "plt.ylabel(\"Predicted Values\")"
   ]
  },
  {
   "cell_type": "code",
   "execution_count": 25,
   "metadata": {},
   "outputs": [
    {
     "name": "stdout",
     "output_type": "stream",
     "text": [
      "\n"
     ]
    },
    {
     "data": {
      "text/plain": [
       "[<matplotlib.lines.Line2D at 0x22a1e0e3a30>]"
      ]
     },
     "execution_count": 25,
     "metadata": {},
     "output_type": "execute_result"
    },
    {
     "data": {
      "image/png": "[encoded data removed]",
      "text/plain": [
       "<Figure size 432x288 with 1 Axes>"
      ]
     },
     "metadata": {
      "needs_background": "light"
     },
     "output_type": "display_data"
    }
   ],
   "source": [
    "print()\n",
    "plt.plot(iter,costiter,color='red')"
   ]
  },
  {
   "cell_type": "code",
   "execution_count": 26,
   "metadata": {},
   "outputs": [
    {
     "data": {
      "text/plain": [
       "0.7569537999562181"
      ]
     },
     "execution_count": 26,
     "metadata": {},
     "output_type": "execute_result"
    }
   ],
   "source": [
    "from sklearn.metrics import r2_score\n",
    "r2_score(actualValue,predictedOutput)"
   ]
  },
  {
   "cell_type": "code",
   "execution_count": null,
   "metadata": {},
   "outputs": [],
   "source": []
  }
 ],
 "metadata": {
  "kernelspec": {
   "display_name": "Python 3",
   "language": "python",
   "name": "python3"
  },
  "language_info": {
   "codemirror_mode": {
    "name": "ipython",
    "version": 3
   },
   "file_extension": ".py",
   "mimetype": "text/x-python",
   "name": "python",
   "nbconvert_exporter": "python",
   "pygments_lexer": "ipython3",
   "version": "3.8.5"
  }
 },
 "nbformat": 4,
 "nbformat_minor": 4
}
