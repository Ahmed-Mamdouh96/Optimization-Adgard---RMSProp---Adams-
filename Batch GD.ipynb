{
 "cells": [
  {
   "cell_type": "code",
   "execution_count": 31,
   "metadata": {},
   "outputs": [
    {
     "name": "stdout",
     "output_type": "stream",
     "text": [
      "[0.12160278] [0.98049718]\n",
      "[ 1.10152296  1.10152296  2.08143371  3.06134445  4.04125519  5.02116593\n",
      "  6.00107667  6.98098741  7.96089815  8.9408089   9.92071964 10.90063038]\n"
     ]
    },
    {
     "data": {
      "text/plain": [
       "Text(0, 0.5, 'Predicted Values')"
      ]
     },
     "execution_count": 31,
     "metadata": {},
     "output_type": "execute_result"
    },
    {
     "data": {
      "image/png": "[encoded data removed]",
      "text/plain": [
       "<Figure size 432x288 with 1 Axes>"
      ]
     },
     "metadata": {
      "needs_background": "light"
     },
     "output_type": "display_data"
    }
   ],
   "source": [
    "import numpy as np\n",
    "import matplotlib.pyplot as plt\n",
    "\n",
    "inputFeature = np.array ([1,1,2,3,4,5,6,7,8,9,10,11])\n",
    "theta0=np.array([0])\n",
    "theta1= np.array([0])\n",
    "actualValue = np.array([1,2,3,1,4,5,6,4,7,10,15,9])\n",
    "\n",
    "costiter=[]\n",
    "iter=[]\n",
    "alpha = 0.001\n",
    "i=1\n",
    "iterations=100\n",
    "while (iterations>1):\n",
    "    predictedOutput=(theta0)+ (theta1*inputFeature)\n",
    "    costFunction= 1/len(inputFeature) * (np.sum((predictedOutput-actualValue)**2))\n",
    "    costiter.append(costFunction)\n",
    "    iter.append(i)\n",
    "    if (costFunction <= 0.000000000001):\n",
    "        break\n",
    "    else :\n",
    "        theta0=theta0 - alpha * (1/len(inputFeature))*np.sum(predictedOutput-actualValue)\n",
    "        theta1=theta1 - alpha * (1/len(inputFeature))* (np.sum((predictedOutput-actualValue)*inputFeature))\n",
    "    iterations=iterations-1 \n",
    "    i=i+1\n",
    "    \n",
    "print(theta0,theta1)\n",
    "print(predictedOutput)\n",
    "\n",
    "plt.scatter(inputFeature,actualValue)\n",
    "plt.plot(inputFeature,predictedOutput,color='red')\n",
    "plt.title(\"Linear Regression\")\n",
    "plt.xlabel(\"Input Features\")\n",
    "plt.ylabel(\"Predicted Values\")"
   ]
  },
  {
   "cell_type": "code",
   "execution_count": 29,
   "metadata": {},
   "outputs": [
    {
     "name": "stdout",
     "output_type": "stream",
     "text": [
      "\n"
     ]
    },
    {
     "data": {
      "text/plain": [
       "[<matplotlib.lines.Line2D at 0x241d9b650d0>]"
      ]
     },
     "execution_count": 29,
     "metadata": {},
     "output_type": "execute_result"
    },
    {
     "data": {
      "image/png": "[encoded data removed]",
      "text/plain": [
       "<Figure size 432x288 with 1 Axes>"
      ]
     },
     "metadata": {
      "needs_background": "light"
     },
     "output_type": "display_data"
    }
   ],
   "source": [
    "print()\n",
    "plt.plot(iter,costiter,color='red')\n"
   ]
  },
  {
   "cell_type": "code",
   "execution_count": 30,
   "metadata": {},
   "outputs": [
    {
     "data": {
      "text/plain": [
       "0.7563376444655003"
      ]
     },
     "execution_count": 30,
     "metadata": {},
     "output_type": "execute_result"
    }
   ],
   "source": [
    "from sklearn.metrics import r2_score\n",
    "r2_score(actualValue,predictedOutput)"
   ]
  },
  {
   "cell_type": "code",
   "execution_count": null,
   "metadata": {},
   "outputs": [],
   "source": []
  }
 ],
 "metadata": {
  "kernelspec": {
   "display_name": "Python 3",
   "language": "python",
   "name": "python3"
  },
  "language_info": {
   "codemirror_mode": {
    "name": "ipython",
    "version": 3
   },
   "file_extension": ".py",
   "mimetype": "text/x-python",
   "name": "python",
   "nbconvert_exporter": "python",
   "pygments_lexer": "ipython3",
   "version": "3.8.5"
  }
 },
 "nbformat": 4,
 "nbformat_minor": 4
}
